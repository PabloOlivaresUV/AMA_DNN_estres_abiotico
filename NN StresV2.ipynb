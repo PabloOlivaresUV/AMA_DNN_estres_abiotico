{
 "cells": [
  {
   "cell_type": "markdown",
   "id": "d27fd107",
   "metadata": {},
   "source": [
    "# NN para la detección de estrés abiotico"
   ]
  },
  {
   "cell_type": "code",
   "execution_count": 49,
   "id": "22d8499c",
   "metadata": {},
   "outputs": [],
   "source": [
    "import csv\n",
    "import numpy as np\n",
    "import pandas as pd\n",
    "from matplotlib import pyplot as plt\n",
    "import seaborn as sns\n",
    "from sklearn.preprocessing import MinMaxScaler \n",
    "from sklearn.model_selection import train_test_split\n",
    "from tensorflow.keras.optimizers import *\n",
    "import tensorflow_addons as tfa\n",
    "from keras.utils.vis_utils import plot_model\n",
    "from tensorflow.keras import initializers\n",
    "from sklearn.metrics import classification_report\n",
    "from sklearn.metrics import roc_curve, auc, confusion_matrix, plot_confusion_matrix\n",
    "from sklearn.metrics import precision_score, recall_score, accuracy_score, f1_score\n",
    "from sklearn.metrics import ConfusionMatrixDisplay"
   ]
  },
  {
   "cell_type": "code",
   "execution_count": 50,
   "id": "e888fc8a",
   "metadata": {},
   "outputs": [
    {
     "data": {
      "text/html": [
       "<div>\n",
       "<style scoped>\n",
       "    .dataframe tbody tr th:only-of-type {\n",
       "        vertical-align: middle;\n",
       "    }\n",
       "\n",
       "    .dataframe tbody tr th {\n",
       "        vertical-align: top;\n",
       "    }\n",
       "\n",
       "    .dataframe thead th {\n",
       "        text-align: right;\n",
       "    }\n",
       "</style>\n",
       "<table border=\"1\" class=\"dataframe\">\n",
       "  <thead>\n",
       "    <tr style=\"text-align: right;\">\n",
       "      <th></th>\n",
       "      <th>Preriodo</th>\n",
       "      <th>Nitrogeno</th>\n",
       "      <th>Fosforo</th>\n",
       "      <th>Calcio</th>\n",
       "      <th>Magnesio</th>\n",
       "      <th>Potasio</th>\n",
       "      <th>Umbral 0.5</th>\n",
       "    </tr>\n",
       "  </thead>\n",
       "  <tbody>\n",
       "    <tr>\n",
       "      <th>0</th>\n",
       "      <td>01/01/2020</td>\n",
       "      <td>0.30</td>\n",
       "      <td>18.33</td>\n",
       "      <td>4.63</td>\n",
       "      <td>0.41</td>\n",
       "      <td>0.17</td>\n",
       "      <td>0</td>\n",
       "    </tr>\n",
       "    <tr>\n",
       "      <th>1</th>\n",
       "      <td>08/01/2020</td>\n",
       "      <td>0.26</td>\n",
       "      <td>27.90</td>\n",
       "      <td>8.57</td>\n",
       "      <td>0.68</td>\n",
       "      <td>0.16</td>\n",
       "      <td>0</td>\n",
       "    </tr>\n",
       "    <tr>\n",
       "      <th>2</th>\n",
       "      <td>15/01/2020</td>\n",
       "      <td>0.30</td>\n",
       "      <td>12.92</td>\n",
       "      <td>2.70</td>\n",
       "      <td>1.05</td>\n",
       "      <td>0.03</td>\n",
       "      <td>0</td>\n",
       "    </tr>\n",
       "    <tr>\n",
       "      <th>3</th>\n",
       "      <td>22/01/2020</td>\n",
       "      <td>0.17</td>\n",
       "      <td>49.47</td>\n",
       "      <td>6.23</td>\n",
       "      <td>0.73</td>\n",
       "      <td>0.07</td>\n",
       "      <td>0</td>\n",
       "    </tr>\n",
       "    <tr>\n",
       "      <th>4</th>\n",
       "      <td>29/01/2020</td>\n",
       "      <td>0.10</td>\n",
       "      <td>30.00</td>\n",
       "      <td>1.20</td>\n",
       "      <td>0.16</td>\n",
       "      <td>0.06</td>\n",
       "      <td>1</td>\n",
       "    </tr>\n",
       "  </tbody>\n",
       "</table>\n",
       "</div>"
      ],
      "text/plain": [
       "     Preriodo  Nitrogeno  Fosforo  Calcio  Magnesio  Potasio  Umbral 0.5\n",
       "0  01/01/2020       0.30    18.33    4.63      0.41     0.17           0\n",
       "1  08/01/2020       0.26    27.90    8.57      0.68     0.16           0\n",
       "2  15/01/2020       0.30    12.92    2.70      1.05     0.03           0\n",
       "3  22/01/2020       0.17    49.47    6.23      0.73     0.07           0\n",
       "4  29/01/2020       0.10    30.00    1.20      0.16     0.06           1"
      ]
     },
     "execution_count": 50,
     "metadata": {},
     "output_type": "execute_result"
    }
   ],
   "source": [
    "path = \"C:/data/\"\n",
    "df = pd.read_csv(path + \"datosAFTRE243234.csv\", sep='\\t')\n",
    "df=df.drop(columns=['Estrés'])\n",
    "df.head()"
   ]
  },
  {
   "cell_type": "code",
   "execution_count": 51,
   "id": "0a3cbfc0",
   "metadata": {},
   "outputs": [
    {
     "name": "stdout",
     "output_type": "stream",
     "text": [
      "0    133\n",
      "1     15\n",
      "Name: Umbral 0.5, dtype: int64\n"
     ]
    }
   ],
   "source": [
    "values = df[\"Umbral 0.5\"].value_counts()\n",
    "print(values)"
   ]
  },
  {
   "cell_type": "code",
   "execution_count": 52,
   "id": "1937ad28",
   "metadata": {},
   "outputs": [
    {
     "data": {
      "text/plain": [
       "Text(1.28, 150, '10.100000000000001%')"
      ]
     },
     "execution_count": 52,
     "metadata": {},
     "output_type": "execute_result"
    },
    {
     "data": {
      "image/png": "[encoded data removed]",
      "text/plain": [
       "<Figure size 432x288 with 1 Axes>"
      ]
     },
     "metadata": {
      "needs_background": "light"
     },
     "output_type": "display_data"
    }
   ],
   "source": [
    "import matplotlib\n",
    "font = {'size'   : 14}\n",
    "matplotlib.rc('font', **font)\n",
    "\n",
    "\n",
    "pd.value_counts(df[\"Umbral 0.5\"]).plot.bar(rot=0, color=[\"green\", \"red\"])\n",
    "plt.title('Class Distribution')\n",
    "plt.xlabel('Class')\n",
    "plt.ylabel('Frequency')\n",
    "plt.text(0.28, 120,str(round(values[0]/(values[0]+values[1]),3)*100) + \"%\", fontsize=14)\n",
    "plt.text(1.28, 150,  str(round(values[1]/(values[0]+values[1]),3)*100) + \"%\", fontsize=12)"
   ]
  },
  {
   "cell_type": "markdown",
   "id": "9ddd3a51",
   "metadata": {},
   "source": [
    "## Checking missing attributes"
   ]
  },
  {
   "cell_type": "code",
   "execution_count": 53,
   "id": "96f3d0ff",
   "metadata": {},
   "outputs": [
    {
     "data": {
      "text/html": [
       "<div>\n",
       "<style scoped>\n",
       "    .dataframe tbody tr th:only-of-type {\n",
       "        vertical-align: middle;\n",
       "    }\n",
       "\n",
       "    .dataframe tbody tr th {\n",
       "        vertical-align: top;\n",
       "    }\n",
       "\n",
       "    .dataframe thead th {\n",
       "        text-align: right;\n",
       "    }\n",
       "</style>\n",
       "<table border=\"1\" class=\"dataframe\">\n",
       "  <thead>\n",
       "    <tr style=\"text-align: right;\">\n",
       "      <th></th>\n",
       "      <th>Total</th>\n",
       "      <th>Percent</th>\n",
       "    </tr>\n",
       "  </thead>\n",
       "  <tbody>\n",
       "    <tr>\n",
       "      <th>Preriodo</th>\n",
       "      <td>0</td>\n",
       "      <td>0.0</td>\n",
       "    </tr>\n",
       "    <tr>\n",
       "      <th>Nitrogeno</th>\n",
       "      <td>0</td>\n",
       "      <td>0.0</td>\n",
       "    </tr>\n",
       "    <tr>\n",
       "      <th>Fosforo</th>\n",
       "      <td>0</td>\n",
       "      <td>0.0</td>\n",
       "    </tr>\n",
       "    <tr>\n",
       "      <th>Calcio</th>\n",
       "      <td>0</td>\n",
       "      <td>0.0</td>\n",
       "    </tr>\n",
       "    <tr>\n",
       "      <th>Magnesio</th>\n",
       "      <td>0</td>\n",
       "      <td>0.0</td>\n",
       "    </tr>\n",
       "    <tr>\n",
       "      <th>Potasio</th>\n",
       "      <td>0</td>\n",
       "      <td>0.0</td>\n",
       "    </tr>\n",
       "    <tr>\n",
       "      <th>Umbral 0.5</th>\n",
       "      <td>0</td>\n",
       "      <td>0.0</td>\n",
       "    </tr>\n",
       "  </tbody>\n",
       "</table>\n",
       "</div>"
      ],
      "text/plain": [
       "            Total  Percent\n",
       "Preriodo        0      0.0\n",
       "Nitrogeno       0      0.0\n",
       "Fosforo         0      0.0\n",
       "Calcio          0      0.0\n",
       "Magnesio        0      0.0\n",
       "Potasio         0      0.0\n",
       "Umbral 0.5      0      0.0"
      ]
     },
     "metadata": {},
     "output_type": "display_data"
    }
   ],
   "source": [
    "def show_null(df):\n",
    "    total = df.isnull().sum().sort_values(ascending=False)\n",
    "    percent = (df.isnull().sum()/df.isnull().count()).sort_values(ascending=False)\n",
    "    missing_data = pd.concat([total, percent], axis=1, keys=['Total', 'Percent'])\n",
    "    display(missing_data)\n",
    "show_null(df)"
   ]
  },
  {
   "cell_type": "code",
   "execution_count": 54,
   "id": "13c5a4fb",
   "metadata": {},
   "outputs": [
    {
     "name": "stderr",
     "output_type": "stream",
     "text": [
      "<ipython-input-54-937f5891fc29>:1: FutureWarning: The default value of numeric_only in DataFrame.corr is deprecated. In a future version, it will default to False. Select only valid columns or specify the value of numeric_only to silence this warning.\n",
      "  corr_matrix = df.corr()\n",
      "<ipython-input-54-937f5891fc29>:3: FutureWarning: The default value of numeric_only in DataFrame.corr is deprecated. In a future version, it will default to False. Select only valid columns or specify the value of numeric_only to silence this warning.\n",
      "  heatmap = sns.heatmap(df.corr(), vmin=-1, vmax=1, cmap='BrBG', annot = True, fmt=\".2f\", annot_kws={\"size\":7})\n"
     ]
    },
    {
     "data": {
      "text/plain": [
       "Text(0.5, 1.0, 'Correlation Heatmap')"
      ]
     },
     "execution_count": 54,
     "metadata": {},
     "output_type": "execute_result"
    },
    {
     "data": {
      "image/png": "[encoded data removed]",
      "text/plain": [
       "<Figure size 864x720 with 2 Axes>"
      ]
     },
     "metadata": {
      "needs_background": "light"
     },
     "output_type": "display_data"
    }
   ],
   "source": [
    "corr_matrix = df.corr()\n",
    "plt.figure(figsize=(12, 10))\n",
    "heatmap = sns.heatmap(df.corr(), vmin=-1, vmax=1, cmap='BrBG', annot = True, fmt=\".2f\", annot_kws={\"size\":7})\n",
    "heatmap.set_title('Correlation Heatmap', fontdict={'fontsize':8}, pad=12)"
   ]
  },
  {
   "cell_type": "markdown",
   "id": "b4e91aa5",
   "metadata": {},
   "source": [
    "## Training, testing"
   ]
  },
  {
   "cell_type": "code",
   "execution_count": 55,
   "id": "952ec905",
   "metadata": {},
   "outputs": [],
   "source": [
    "y = df[\"Umbral 0.5\"]\n",
    "y = y.astype(int)\n",
    "X = df.iloc[:,1:-1]"
   ]
  },
  {
   "cell_type": "code",
   "execution_count": 56,
   "id": "8dfe02f7",
   "metadata": {},
   "outputs": [
    {
     "name": "stdout",
     "output_type": "stream",
     "text": [
      "(148, 5) (148,)\n"
     ]
    }
   ],
   "source": [
    "print(X.shape, y.shape)"
   ]
  },
  {
   "cell_type": "code",
   "execution_count": 57,
   "id": "19aa5e4d",
   "metadata": {},
   "outputs": [],
   "source": [
    "X_train, X_test, y_train, y_test = train_test_split(X,y, \n",
    "                                test_size=0.3, random_state=1)\n",
    "X_train, X_val, y_train, y_val = train_test_split(X_train,y_train, \n",
    "                                                  test_size=0.2, random_state=0)\n",
    "n_classes = 2\n"
   ]
  },
  {
   "cell_type": "code",
   "execution_count": 58,
   "id": "e6dd6cf3",
   "metadata": {},
   "outputs": [
    {
     "name": "stdout",
     "output_type": "stream",
     "text": [
      "Number of positive samples in training data: 7 (8.54% of total)\n",
      "Weight class 0:  0.013333333333333334 6\n",
      "Weight class 1:  0.14285714285714285\n"
     ]
    }
   ],
   "source": [
    "counts = np.bincount(y_train.values)\n",
    "print(\n",
    "    \"Number of positive samples in training data: {} ({:.2f}% of total)\".format(\n",
    "        counts[1], 100 * float(counts[1]) / len(y_train)\n",
    "    )\n",
    ")\n",
    "\n",
    "weight_for_0 = 1.0 / counts[0]\n",
    "weight_for_1 = 1.0 / counts[1]\n",
    "\n",
    "print(\"Weight class 0: \", weight_for_0,6)\n",
    "print(\"Weight class 1: \", weight_for_1)"
   ]
  },
  {
   "cell_type": "markdown",
   "id": "7948acfb",
   "metadata": {},
   "source": [
    "# Deep Neural Network"
   ]
  },
  {
   "cell_type": "code",
   "execution_count": 59,
   "id": "8268cce3",
   "metadata": {},
   "outputs": [
    {
     "name": "stdout",
     "output_type": "stream",
     "text": [
      "Model: \"sequential_3\"\n",
      "_________________________________________________________________\n",
      " Layer (type)                Output Shape              Param #   \n",
      "=================================================================\n",
      " dense_18 (Dense)            (None, 5)                 30        \n",
      "                                                                 \n",
      " dense_19 (Dense)            (None, 200)               1200      \n",
      "                                                                 \n",
      " dense_20 (Dense)            (None, 150)               30150     \n",
      "                                                                 \n",
      " dense_21 (Dense)            (None, 100)               15100     \n",
      "                                                                 \n",
      " dense_22 (Dense)            (None, 30)                3030      \n",
      "                                                                 \n",
      " dense_23 (Dense)            (None, 1)                 31        \n",
      "                                                                 \n",
      "=================================================================\n",
      "Total params: 49,541\n",
      "Trainable params: 49,541\n",
      "Non-trainable params: 0\n",
      "_________________________________________________________________\n"
     ]
    }
   ],
   "source": [
    "from keras.layers import Dense, Dropout\n",
    "from keras.models import Sequential\n",
    "import tensorflow  as tf\n",
    "\n",
    "\n",
    "\n",
    "model = Sequential()\n",
    "#model.add(Dense(300,input_shape=(X_train.shape[1],), activation='relu')) bias_initializer='zeros'\n",
    "#model.add(Dense(300,kernel_initializer='random_normal', input_shape=(X_train.shape[1],), activation='relu'))\n",
    "#model.add(Dense(150, activation = \"relu\"))\n",
    "#model.add(Dense(100, activation = \"relu\"))\n",
    "#model.add(Dense(50, activation = \"relu\"))\n",
    "#model.add(Dense(1, activation='sigmoid'))\n",
    "\n",
    "model.add(Dense(5,kernel_initializer='random_normal', input_shape=(X_train.shape[1],), activation='relu'))\n",
    "model.add(Dense(200, activation = \"relu\"))\n",
    "model.add(Dense(150, activation = \"relu\"))\n",
    "model.add(Dense(100, activation = \"relu\"))\n",
    "model.add(Dense(30, activation = \"relu\"))\n",
    "model.add(Dense(1, activation='sigmoid'))\n",
    "\n",
    "\n",
    "model.summary()\n"
   ]
  },
  {
   "cell_type": "code",
   "execution_count": 60,
   "id": "2dbda3d5",
   "metadata": {},
   "outputs": [
    {
     "name": "stdout",
     "output_type": "stream",
     "text": [
      "Epoch 1/15\n",
      "9/9 [==============================] - 1s 42ms/step - loss: 0.3989 - accuracy: 0.9146 - precision_3: 0.0000e+00 - recall_3: 0.0000e+00 - val_loss: 0.2838 - val_accuracy: 0.9048 - val_precision_3: 0.0000e+00 - val_recall_3: 0.0000e+00\n",
      "Epoch 2/15\n",
      "9/9 [==============================] - 0s 4ms/step - loss: 0.3209 - accuracy: 0.9146 - precision_3: 0.0000e+00 - recall_3: 0.0000e+00 - val_loss: 0.2847 - val_accuracy: 0.9048 - val_precision_3: 0.0000e+00 - val_recall_3: 0.0000e+00\n",
      "Epoch 3/15\n",
      "9/9 [==============================] - 0s 5ms/step - loss: 0.3207 - accuracy: 0.9146 - precision_3: 0.0000e+00 - recall_3: 0.0000e+00 - val_loss: 0.2798 - val_accuracy: 0.9048 - val_precision_3: 0.0000e+00 - val_recall_3: 0.0000e+00\n",
      "Epoch 4/15\n",
      "9/9 [==============================] - 0s 5ms/step - loss: 0.3071 - accuracy: 0.9146 - precision_3: 0.0000e+00 - recall_3: 0.0000e+00 - val_loss: 0.2831 - val_accuracy: 0.9048 - val_precision_3: 0.0000e+00 - val_recall_3: 0.0000e+00\n",
      "Epoch 5/15\n",
      "9/9 [==============================] - 0s 4ms/step - loss: 0.3101 - accuracy: 0.9146 - precision_3: 0.0000e+00 - recall_3: 0.0000e+00 - val_loss: 0.2800 - val_accuracy: 0.9048 - val_precision_3: 0.0000e+00 - val_recall_3: 0.0000e+00\n",
      "Epoch 6/15\n",
      "9/9 [==============================] - 0s 5ms/step - loss: 0.3078 - accuracy: 0.9146 - precision_3: 0.0000e+00 - recall_3: 0.0000e+00 - val_loss: 0.3265 - val_accuracy: 0.9048 - val_precision_3: 0.0000e+00 - val_recall_3: 0.0000e+00\n",
      "Epoch 7/15\n",
      "9/9 [==============================] - 0s 4ms/step - loss: 0.3372 - accuracy: 0.9146 - precision_3: 0.0000e+00 - recall_3: 0.0000e+00 - val_loss: 0.3139 - val_accuracy: 0.9048 - val_precision_3: 0.0000e+00 - val_recall_3: 0.0000e+00\n",
      "Epoch 8/15\n",
      "9/9 [==============================] - 0s 5ms/step - loss: 0.3218 - accuracy: 0.9146 - precision_3: 0.0000e+00 - recall_3: 0.0000e+00 - val_loss: 0.2935 - val_accuracy: 0.9048 - val_precision_3: 0.0000e+00 - val_recall_3: 0.0000e+00\n",
      "Epoch 9/15\n",
      "9/9 [==============================] - 0s 5ms/step - loss: 0.3099 - accuracy: 0.9146 - precision_3: 0.0000e+00 - recall_3: 0.0000e+00 - val_loss: 0.2763 - val_accuracy: 0.9048 - val_precision_3: 0.0000e+00 - val_recall_3: 0.0000e+00\n",
      "Epoch 10/15\n",
      "9/9 [==============================] - 0s 4ms/step - loss: 0.3002 - accuracy: 0.9146 - precision_3: 0.0000e+00 - recall_3: 0.0000e+00 - val_loss: 0.2747 - val_accuracy: 0.9048 - val_precision_3: 0.0000e+00 - val_recall_3: 0.0000e+00\n",
      "Epoch 11/15\n",
      "9/9 [==============================] - 0s 4ms/step - loss: 0.2981 - accuracy: 0.9146 - precision_3: 0.0000e+00 - recall_3: 0.0000e+00 - val_loss: 0.2745 - val_accuracy: 0.9048 - val_precision_3: 0.0000e+00 - val_recall_3: 0.0000e+00\n",
      "Epoch 12/15\n",
      "9/9 [==============================] - 0s 4ms/step - loss: 0.2988 - accuracy: 0.9146 - precision_3: 0.0000e+00 - recall_3: 0.0000e+00 - val_loss: 0.2816 - val_accuracy: 0.9048 - val_precision_3: 0.0000e+00 - val_recall_3: 0.0000e+00\n",
      "Epoch 13/15\n",
      "9/9 [==============================] - 0s 6ms/step - loss: 0.2903 - accuracy: 0.9146 - precision_3: 0.0000e+00 - recall_3: 0.0000e+00 - val_loss: 0.2718 - val_accuracy: 0.9048 - val_precision_3: 0.0000e+00 - val_recall_3: 0.0000e+00\n",
      "Epoch 14/15\n",
      "9/9 [==============================] - 0s 4ms/step - loss: 0.2932 - accuracy: 0.9146 - precision_3: 0.0000e+00 - recall_3: 0.0000e+00 - val_loss: 0.2706 - val_accuracy: 0.9048 - val_precision_3: 0.0000e+00 - val_recall_3: 0.0000e+00\n",
      "Epoch 15/15\n",
      "9/9 [==============================] - 0s 5ms/step - loss: 0.3160 - accuracy: 0.9146 - precision_3: 0.0000e+00 - recall_3: 0.0000e+00 - val_loss: 0.2953 - val_accuracy: 0.9048 - val_precision_3: 0.0000e+00 - val_recall_3: 0.0000e+00\n"
     ]
    }
   ],
   "source": [
    "metrics_m = [\n",
    "    tf.keras.metrics.FalseNegatives(name=\"fn\"),\n",
    "    tf.keras.metrics.FalsePositives(name=\"fp\"),\n",
    "    tf.keras.metrics.TrueNegatives(name=\"tn\"),\n",
    "    tf.keras.metrics.TruePositives(name=\"tp\"),\n",
    "    tf.keras.metrics.Precision(name=\"precision\"),\n",
    "    tf.keras.metrics.Recall(name=\"recall\"),\n",
    "]\n",
    "\n",
    "model.compile(optimizer=Adam(),\n",
    "               loss='binary_crossentropy',\n",
    "               metrics=['accuracy',tf.keras.metrics.Precision(),tf.keras.metrics.Recall()])\n",
    "\n",
    "history = model.fit(X_train, y_train, epochs=15, \n",
    "                    verbose=1,\n",
    "                    batch_size=10,\n",
    "                    validation_data = (X_val, y_val))\n",
    "\n"
   ]
  },
  {
   "cell_type": "code",
   "execution_count": 61,
   "id": "98c15a1f",
   "metadata": {},
   "outputs": [],
   "source": [
    "def show_history(history):\n",
    "    train_loss = history.history['loss']\n",
    "    val_loss = history.history['val_loss']\n",
    "    plt.figure()\n",
    "    plt.plot(train_loss,'r', label=\"train\")\n",
    "    plt.plot(val_loss,'g', label=\"validation\")\n",
    "    plt.legend()\n",
    "    plt.xlabel(\"epochs\")\n",
    "    plt.ylabel(\"loss\")\n",
    "    plt.show()\n",
    "    \n",
    "    \n",
    "def show_metrics(y_pred,th):\n",
    "    cm = confusion_matrix(y_test, y_pred>th)\n",
    "    print(cm)\n",
    "    disp = ConfusionMatrixDisplay(confusion_matrix=cm, display_labels=[\"Non-estrés\", \"estrés\"])\n",
    "    disp.plot(cmap=plt.cm.Blues)\n",
    "    plt.show()\n",
    "    d = classification_report(y_test, y_pred > th,output_dict=True)\n",
    "    display(pd.DataFrame.from_dict(d))\n",
    "    return y_pred"
   ]
  },
  {
   "cell_type": "code",
   "execution_count": 62,
   "id": "a4f33cb2",
   "metadata": {},
   "outputs": [
    {
     "data": {
      "image/png": "[encoded data removed]",
      "text/plain": [
       "<Figure size 432x288 with 1 Axes>"
      ]
     },
     "metadata": {
      "needs_background": "light"
     },
     "output_type": "display_data"
    }
   ],
   "source": [
    "show_history(history)"
   ]
  },
  {
   "cell_type": "code",
   "execution_count": 63,
   "metadata": {},
   "outputs": [
    {
     "name": "stdout",
     "output_type": "stream",
     "text": [
      "2/2 [==============================] - 0s 983us/step\n",
      "[[39  0]\n",
      " [ 6  0]]\n"
     ]
    },
    {
     "data": {
      "image/png": "[encoded data removed]",
      "text/plain": [
       "<Figure size 432x288 with 2 Axes>"
      ]
     },
     "metadata": {
      "needs_background": "light"
     },
     "output_type": "display_data"
    },
    {
     "name": "stderr",
     "output_type": "stream",
     "text": [
      "c:\\Users\\pablo\\anaconda3\\lib\\site-packages\\sklearn\\metrics\\_classification.py:1221: UndefinedMetricWarning: Precision and F-score are ill-defined and being set to 0.0 in labels with no predicted samples. Use `zero_division` parameter to control this behavior.\n",
      "  _warn_prf(average, modifier, msg_start, len(result))\n"
     ]
    },
    {
     "data": {
      "text/html": [
       "<div>\n",
       "<style scoped>\n",
       "    .dataframe tbody tr th:only-of-type {\n",
       "        vertical-align: middle;\n",
       "    }\n",
       "\n",
       "    .dataframe tbody tr th {\n",
       "        vertical-align: top;\n",
       "    }\n",
       "\n",
       "    .dataframe thead th {\n",
       "        text-align: right;\n",
       "    }\n",
       "</style>\n",
       "<table border=\"1\" class=\"dataframe\">\n",
       "  <thead>\n",
       "    <tr style=\"text-align: right;\">\n",
       "      <th></th>\n",
       "      <th>0</th>\n",
       "      <th>1</th>\n",
       "      <th>accuracy</th>\n",
       "      <th>macro avg</th>\n",
       "      <th>weighted avg</th>\n",
       "    </tr>\n",
       "  </thead>\n",
       "  <tbody>\n",
       "    <tr>\n",
       "      <th>precision</th>\n",
       "      <td>0.866667</td>\n",
       "      <td>0.0</td>\n",
       "      <td>0.866667</td>\n",
       "      <td>0.433333</td>\n",
       "      <td>0.751111</td>\n",
       "    </tr>\n",
       "    <tr>\n",
       "      <th>recall</th>\n",
       "      <td>1.000000</td>\n",
       "      <td>0.0</td>\n",
       "      <td>0.866667</td>\n",
       "      <td>0.500000</td>\n",
       "      <td>0.866667</td>\n",
       "    </tr>\n",
       "    <tr>\n",
       "      <th>f1-score</th>\n",
       "      <td>0.928571</td>\n",
       "      <td>0.0</td>\n",
       "      <td>0.866667</td>\n",
       "      <td>0.464286</td>\n",
       "      <td>0.804762</td>\n",
       "    </tr>\n",
       "    <tr>\n",
       "      <th>support</th>\n",
       "      <td>39.000000</td>\n",
       "      <td>6.0</td>\n",
       "      <td>0.866667</td>\n",
       "      <td>45.000000</td>\n",
       "      <td>45.000000</td>\n",
       "    </tr>\n",
       "  </tbody>\n",
       "</table>\n",
       "</div>"
      ],
      "text/plain": [
       "                   0    1  accuracy  macro avg  weighted avg\n",
       "precision   0.866667  0.0  0.866667   0.433333      0.751111\n",
       "recall      1.000000  0.0  0.866667   0.500000      0.866667\n",
       "f1-score    0.928571  0.0  0.866667   0.464286      0.804762\n",
       "support    39.000000  6.0  0.866667  45.000000     45.000000"
      ]
     },
     "metadata": {},
     "output_type": "display_data"
    },
    {
     "data": {
      "text/plain": [
       "array([[0.19050151],\n",
       "       [0.15658638],\n",
       "       [0.15473928],\n",
       "       [0.1171463 ],\n",
       "       [0.25915664],\n",
       "       [0.14554541],\n",
       "       [0.29570034],\n",
       "       [0.22674908],\n",
       "       [0.20662217],\n",
       "       [0.07932263],\n",
       "       [0.17121392],\n",
       "       [0.27449495],\n",
       "       [0.18554741],\n",
       "       [0.09983685],\n",
       "       [0.08930071],\n",
       "       [0.262384  ],\n",
       "       [0.13056529],\n",
       "       [0.16986327],\n",
       "       [0.21546863],\n",
       "       [0.09561618],\n",
       "       [0.14300625],\n",
       "       [0.20871852],\n",
       "       [0.20956337],\n",
       "       [0.18344414],\n",
       "       [0.1280058 ],\n",
       "       [0.0838488 ],\n",
       "       [0.1445805 ],\n",
       "       [0.15489869],\n",
       "       [0.24546608],\n",
       "       [0.1421367 ],\n",
       "       [0.22521055],\n",
       "       [0.0711834 ],\n",
       "       [0.20007418],\n",
       "       [0.09118222],\n",
       "       [0.10481272],\n",
       "       [0.24585426],\n",
       "       [0.15188238],\n",
       "       [0.1878197 ],\n",
       "       [0.14831612],\n",
       "       [0.09688716],\n",
       "       [0.2634254 ],\n",
       "       [0.17063336],\n",
       "       [0.2676762 ],\n",
       "       [0.16807143],\n",
       "       [0.25043216]], dtype=float32)"
      ]
     },
     "execution_count": 63,
     "metadata": {},
     "output_type": "execute_result"
    }
   ],
   "source": [
    "y_pred = model.predict(X_test)\n",
    "show_metrics(y_pred,.3)"
   ]
  },
  {
   "cell_type": "code",
   "execution_count": 64,
   "metadata": {},
   "outputs": [
    {
     "data": {
      "text/plain": [
       "array([[0.19050151],\n",
       "       [0.15658638],\n",
       "       [0.15473928],\n",
       "       [0.1171463 ],\n",
       "       [0.25915664],\n",
       "       [0.14554541],\n",
       "       [0.29570034],\n",
       "       [0.22674908],\n",
       "       [0.20662217],\n",
       "       [0.07932263],\n",
       "       [0.17121392],\n",
       "       [0.27449495],\n",
       "       [0.18554741],\n",
       "       [0.09983685],\n",
       "       [0.08930071],\n",
       "       [0.262384  ],\n",
       "       [0.13056529],\n",
       "       [0.16986327],\n",
       "       [0.21546863],\n",
       "       [0.09561618],\n",
       "       [0.14300625],\n",
       "       [0.20871852],\n",
       "       [0.20956337],\n",
       "       [0.18344414],\n",
       "       [0.1280058 ],\n",
       "       [0.0838488 ],\n",
       "       [0.1445805 ],\n",
       "       [0.15489869],\n",
       "       [0.24546608],\n",
       "       [0.1421367 ],\n",
       "       [0.22521055],\n",
       "       [0.0711834 ],\n",
       "       [0.20007418],\n",
       "       [0.09118222],\n",
       "       [0.10481272],\n",
       "       [0.24585426],\n",
       "       [0.15188238],\n",
       "       [0.1878197 ],\n",
       "       [0.14831612],\n",
       "       [0.09688716],\n",
       "       [0.2634254 ],\n",
       "       [0.17063336],\n",
       "       [0.2676762 ],\n",
       "       [0.16807143],\n",
       "       [0.25043216]], dtype=float32)"
      ]
     },
     "execution_count": 64,
     "metadata": {},
     "output_type": "execute_result"
    }
   ],
   "source": [
    "y_pred"
   ]
  }
 ],
 "metadata": {
  "kernelspec": {
   "display_name": "Python 3",
   "language": "python",
   "name": "python3"
  },
  "language_info": {
   "codemirror_mode": {
    "name": "ipython",
    "version": 3
   },
   "file_extension": ".py",
   "mimetype": "text/x-python",
   "name": "python",
   "nbconvert_exporter": "python",
   "pygments_lexer": "ipython3",
   "version": "3.8.3"
  },
  "vscode": {
   "interpreter": {
    "hash": "b2e652f635080af47a587503e30de6976439f49ada01b3349f0f0746ac93a74c"
   }
  }
 },
 "nbformat": 4,
 "nbformat_minor": 5
}
